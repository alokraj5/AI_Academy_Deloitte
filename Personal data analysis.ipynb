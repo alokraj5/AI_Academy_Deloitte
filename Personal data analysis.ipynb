{
 "cells": [
  {
   "cell_type": "markdown",
   "id": "e527c6a3",
   "metadata": {},
   "source": [
    "# Personal data analysis on marital status, existing loans, education, profession etc. and its impact on the campaign’s success."
   ]
  },
  {
   "cell_type": "code",
   "execution_count": 138,
   "id": "6b9f7e37",
   "metadata": {},
   "outputs": [],
   "source": [
    "#Loading modules\n",
    "import pandas as pd # Data processing \n",
    "import numpy as np #Numerical Python\n",
    "import matplotlib.pyplot as plt # Data visualisation\n",
    "import seaborn as sns # Data visualisation"
   ]
  },
  {
   "cell_type": "code",
   "execution_count": 139,
   "id": "8ca62c01",
   "metadata": {},
   "outputs": [],
   "source": [
    "#Uploading main data file\n",
    "customer_details=pd.read_csv(\"Customer_and_bank details_p1.csv\")"
   ]
  },
  {
   "cell_type": "code",
   "execution_count": 141,
   "id": "cfda20e3",
   "metadata": {},
   "outputs": [
    {
     "data": {
      "text/html": [
       "<div>\n",
       "<style scoped>\n",
       "    .dataframe tbody tr th:only-of-type {\n",
       "        vertical-align: middle;\n",
       "    }\n",
       "\n",
       "    .dataframe tbody tr th {\n",
       "        vertical-align: top;\n",
       "    }\n",
       "\n",
       "    .dataframe thead th {\n",
       "        text-align: right;\n",
       "    }\n",
       "</style>\n",
       "<table border=\"1\" class=\"dataframe\">\n",
       "  <thead>\n",
       "    <tr style=\"text-align: right;\">\n",
       "      <th></th>\n",
       "      <th>Customer_id</th>\n",
       "      <th>age</th>\n",
       "      <th>job</th>\n",
       "      <th>marital</th>\n",
       "      <th>education</th>\n",
       "      <th>default</th>\n",
       "      <th>housing</th>\n",
       "      <th>loan</th>\n",
       "      <th>Region_Code</th>\n",
       "      <th>State_Code</th>\n",
       "      <th>City_Code</th>\n",
       "    </tr>\n",
       "  </thead>\n",
       "  <tbody>\n",
       "    <tr>\n",
       "      <th>0</th>\n",
       "      <td>1</td>\n",
       "      <td>56</td>\n",
       "      <td>services</td>\n",
       "      <td>married</td>\n",
       "      <td>high.school</td>\n",
       "      <td>no</td>\n",
       "      <td>no</td>\n",
       "      <td>yes</td>\n",
       "      <td>3</td>\n",
       "      <td>S1</td>\n",
       "      <td>C1</td>\n",
       "    </tr>\n",
       "    <tr>\n",
       "      <th>1</th>\n",
       "      <td>2</td>\n",
       "      <td>45</td>\n",
       "      <td>services</td>\n",
       "      <td>married</td>\n",
       "      <td>basic.9y</td>\n",
       "      <td>unknown</td>\n",
       "      <td>no</td>\n",
       "      <td>no</td>\n",
       "      <td>3</td>\n",
       "      <td>S1</td>\n",
       "      <td>C1</td>\n",
       "    </tr>\n",
       "    <tr>\n",
       "      <th>2</th>\n",
       "      <td>3</td>\n",
       "      <td>59</td>\n",
       "      <td>admin.</td>\n",
       "      <td>married</td>\n",
       "      <td>professional.course</td>\n",
       "      <td>no</td>\n",
       "      <td>no</td>\n",
       "      <td>no</td>\n",
       "      <td>4</td>\n",
       "      <td>S2</td>\n",
       "      <td>C2</td>\n",
       "    </tr>\n",
       "    <tr>\n",
       "      <th>3</th>\n",
       "      <td>4</td>\n",
       "      <td>41</td>\n",
       "      <td>blue-collar</td>\n",
       "      <td>married</td>\n",
       "      <td>unknown</td>\n",
       "      <td>unknown</td>\n",
       "      <td>no</td>\n",
       "      <td>no</td>\n",
       "      <td>3</td>\n",
       "      <td>S3</td>\n",
       "      <td>C3</td>\n",
       "    </tr>\n",
       "    <tr>\n",
       "      <th>4</th>\n",
       "      <td>5</td>\n",
       "      <td>24</td>\n",
       "      <td>technician</td>\n",
       "      <td>single</td>\n",
       "      <td>professional.course</td>\n",
       "      <td>no</td>\n",
       "      <td>yes</td>\n",
       "      <td>no</td>\n",
       "      <td>3</td>\n",
       "      <td>S3</td>\n",
       "      <td>C3</td>\n",
       "    </tr>\n",
       "  </tbody>\n",
       "</table>\n",
       "</div>"
      ],
      "text/plain": [
       "   Customer_id  age          job  marital            education  default  \\\n",
       "0            1   56     services  married          high.school       no   \n",
       "1            2   45     services  married             basic.9y  unknown   \n",
       "2            3   59       admin.  married  professional.course       no   \n",
       "3            4   41  blue-collar  married              unknown  unknown   \n",
       "4            5   24   technician   single  professional.course       no   \n",
       "\n",
       "  housing loan Region_Code State_Code City_Code  \n",
       "0      no  yes           3         S1        C1  \n",
       "1      no   no           3         S1        C1  \n",
       "2      no   no           4         S2        C2  \n",
       "3      no   no           3         S3        C3  \n",
       "4     yes   no           3         S3        C3  "
      ]
     },
     "execution_count": 141,
     "metadata": {},
     "output_type": "execute_result"
    }
   ],
   "source": [
    "customer_details.head()"
   ]
  },
  {
   "cell_type": "code",
   "execution_count": 142,
   "id": "322ab370",
   "metadata": {},
   "outputs": [],
   "source": [
    "#creating a new column - age category based on the age distribution\n",
    "customer_details['age_category']=customer_details['age'].apply(lambda x:'Teenagers' if x<20 else('Twenties' if 20<x<30  else ('Thirties' if 30<x<40 else ('Forties' if 40<x<50  else ('Fifties' if 50<x<60 else 'Retired')))))"
   ]
  },
  {
   "cell_type": "code",
   "execution_count": 143,
   "id": "a940fd78",
   "metadata": {},
   "outputs": [
    {
     "data": {
      "text/plain": [
       "Thirties     13728\n",
       "Forties       8417\n",
       "Fifties       5405\n",
       "Twenties      4958\n",
       "Retired       4508\n",
       "Teenagers       68\n",
       "Name: age_category, dtype: int64"
      ]
     },
     "execution_count": 143,
     "metadata": {},
     "output_type": "execute_result"
    }
   ],
   "source": [
    "customer_details['age_category'].value_counts()"
   ]
  },
  {
   "cell_type": "markdown",
   "id": "7570d051",
   "metadata": {},
   "source": [
    "### Our database of customers comprises of people in the age group of 30 to 40 years mostly"
   ]
  },
  {
   "cell_type": "code",
   "execution_count": 144,
   "id": "d5ec7b5c",
   "metadata": {},
   "outputs": [
    {
     "data": {
      "text/html": [
       "<div>\n",
       "<style scoped>\n",
       "    .dataframe tbody tr th:only-of-type {\n",
       "        vertical-align: middle;\n",
       "    }\n",
       "\n",
       "    .dataframe tbody tr th {\n",
       "        vertical-align: top;\n",
       "    }\n",
       "\n",
       "    .dataframe thead th {\n",
       "        text-align: right;\n",
       "    }\n",
       "</style>\n",
       "<table border=\"1\" class=\"dataframe\">\n",
       "  <thead>\n",
       "    <tr style=\"text-align: right;\">\n",
       "      <th></th>\n",
       "      <th>Customer_id</th>\n",
       "      <th>age</th>\n",
       "    </tr>\n",
       "  </thead>\n",
       "  <tbody>\n",
       "    <tr>\n",
       "      <th>count</th>\n",
       "      <td>37084.000000</td>\n",
       "      <td>37084.000000</td>\n",
       "    </tr>\n",
       "    <tr>\n",
       "      <th>mean</th>\n",
       "      <td>18542.500000</td>\n",
       "      <td>40.042714</td>\n",
       "    </tr>\n",
       "    <tr>\n",
       "      <th>std</th>\n",
       "      <td>10705.373028</td>\n",
       "      <td>10.432965</td>\n",
       "    </tr>\n",
       "    <tr>\n",
       "      <th>min</th>\n",
       "      <td>1.000000</td>\n",
       "      <td>17.000000</td>\n",
       "    </tr>\n",
       "    <tr>\n",
       "      <th>25%</th>\n",
       "      <td>9271.750000</td>\n",
       "      <td>32.000000</td>\n",
       "    </tr>\n",
       "    <tr>\n",
       "      <th>50%</th>\n",
       "      <td>18542.500000</td>\n",
       "      <td>38.000000</td>\n",
       "    </tr>\n",
       "    <tr>\n",
       "      <th>75%</th>\n",
       "      <td>27813.250000</td>\n",
       "      <td>47.000000</td>\n",
       "    </tr>\n",
       "    <tr>\n",
       "      <th>max</th>\n",
       "      <td>37084.000000</td>\n",
       "      <td>98.000000</td>\n",
       "    </tr>\n",
       "  </tbody>\n",
       "</table>\n",
       "</div>"
      ],
      "text/plain": [
       "        Customer_id           age\n",
       "count  37084.000000  37084.000000\n",
       "mean   18542.500000     40.042714\n",
       "std    10705.373028     10.432965\n",
       "min        1.000000     17.000000\n",
       "25%     9271.750000     32.000000\n",
       "50%    18542.500000     38.000000\n",
       "75%    27813.250000     47.000000\n",
       "max    37084.000000     98.000000"
      ]
     },
     "execution_count": 144,
     "metadata": {},
     "output_type": "execute_result"
    }
   ],
   "source": [
    "customer_details.describe()"
   ]
  },
  {
   "cell_type": "code",
   "execution_count": 145,
   "id": "ae3d8a21",
   "metadata": {},
   "outputs": [],
   "source": [
    "#Uploading the target dataset\n",
    "customer_response=pd.read_csv(\"Customer_Response_data_p1.csv\")"
   ]
  },
  {
   "cell_type": "code",
   "execution_count": 146,
   "id": "97de91bc",
   "metadata": {},
   "outputs": [
    {
     "data": {
      "text/html": [
       "<div>\n",
       "<style scoped>\n",
       "    .dataframe tbody tr th:only-of-type {\n",
       "        vertical-align: middle;\n",
       "    }\n",
       "\n",
       "    .dataframe tbody tr th {\n",
       "        vertical-align: top;\n",
       "    }\n",
       "\n",
       "    .dataframe thead th {\n",
       "        text-align: right;\n",
       "    }\n",
       "</style>\n",
       "<table border=\"1\" class=\"dataframe\">\n",
       "  <thead>\n",
       "    <tr style=\"text-align: right;\">\n",
       "      <th></th>\n",
       "      <th>Customer_id</th>\n",
       "      <th>y</th>\n",
       "    </tr>\n",
       "  </thead>\n",
       "  <tbody>\n",
       "    <tr>\n",
       "      <th>0</th>\n",
       "      <td>1</td>\n",
       "      <td>no</td>\n",
       "    </tr>\n",
       "    <tr>\n",
       "      <th>1</th>\n",
       "      <td>2</td>\n",
       "      <td>no</td>\n",
       "    </tr>\n",
       "    <tr>\n",
       "      <th>2</th>\n",
       "      <td>3</td>\n",
       "      <td>no</td>\n",
       "    </tr>\n",
       "    <tr>\n",
       "      <th>3</th>\n",
       "      <td>4</td>\n",
       "      <td>no</td>\n",
       "    </tr>\n",
       "    <tr>\n",
       "      <th>4</th>\n",
       "      <td>5</td>\n",
       "      <td>no</td>\n",
       "    </tr>\n",
       "  </tbody>\n",
       "</table>\n",
       "</div>"
      ],
      "text/plain": [
       "   Customer_id   y\n",
       "0            1  no\n",
       "1            2  no\n",
       "2            3  no\n",
       "3            4  no\n",
       "4            5  no"
      ]
     },
     "execution_count": 146,
     "metadata": {},
     "output_type": "execute_result"
    }
   ],
   "source": [
    "customer_response.head()"
   ]
  },
  {
   "cell_type": "code",
   "execution_count": 147,
   "id": "72a7d631",
   "metadata": {},
   "outputs": [
    {
     "data": {
      "text/html": [
       "<div>\n",
       "<style scoped>\n",
       "    .dataframe tbody tr th:only-of-type {\n",
       "        vertical-align: middle;\n",
       "    }\n",
       "\n",
       "    .dataframe tbody tr th {\n",
       "        vertical-align: top;\n",
       "    }\n",
       "\n",
       "    .dataframe thead th {\n",
       "        text-align: right;\n",
       "    }\n",
       "</style>\n",
       "<table border=\"1\" class=\"dataframe\">\n",
       "  <thead>\n",
       "    <tr style=\"text-align: right;\">\n",
       "      <th></th>\n",
       "      <th>Customer_id</th>\n",
       "      <th>age</th>\n",
       "      <th>job</th>\n",
       "      <th>marital</th>\n",
       "      <th>education</th>\n",
       "      <th>default</th>\n",
       "      <th>housing</th>\n",
       "      <th>loan</th>\n",
       "      <th>Region_Code</th>\n",
       "      <th>State_Code</th>\n",
       "      <th>City_Code</th>\n",
       "      <th>age_category</th>\n",
       "      <th>y</th>\n",
       "    </tr>\n",
       "  </thead>\n",
       "  <tbody>\n",
       "    <tr>\n",
       "      <th>0</th>\n",
       "      <td>1</td>\n",
       "      <td>56</td>\n",
       "      <td>services</td>\n",
       "      <td>married</td>\n",
       "      <td>high.school</td>\n",
       "      <td>no</td>\n",
       "      <td>no</td>\n",
       "      <td>yes</td>\n",
       "      <td>3</td>\n",
       "      <td>S1</td>\n",
       "      <td>C1</td>\n",
       "      <td>Fifties</td>\n",
       "      <td>no</td>\n",
       "    </tr>\n",
       "    <tr>\n",
       "      <th>1</th>\n",
       "      <td>2</td>\n",
       "      <td>45</td>\n",
       "      <td>services</td>\n",
       "      <td>married</td>\n",
       "      <td>basic.9y</td>\n",
       "      <td>unknown</td>\n",
       "      <td>no</td>\n",
       "      <td>no</td>\n",
       "      <td>3</td>\n",
       "      <td>S1</td>\n",
       "      <td>C1</td>\n",
       "      <td>Forties</td>\n",
       "      <td>no</td>\n",
       "    </tr>\n",
       "    <tr>\n",
       "      <th>2</th>\n",
       "      <td>3</td>\n",
       "      <td>59</td>\n",
       "      <td>admin.</td>\n",
       "      <td>married</td>\n",
       "      <td>professional.course</td>\n",
       "      <td>no</td>\n",
       "      <td>no</td>\n",
       "      <td>no</td>\n",
       "      <td>4</td>\n",
       "      <td>S2</td>\n",
       "      <td>C2</td>\n",
       "      <td>Fifties</td>\n",
       "      <td>no</td>\n",
       "    </tr>\n",
       "    <tr>\n",
       "      <th>3</th>\n",
       "      <td>4</td>\n",
       "      <td>41</td>\n",
       "      <td>blue-collar</td>\n",
       "      <td>married</td>\n",
       "      <td>unknown</td>\n",
       "      <td>unknown</td>\n",
       "      <td>no</td>\n",
       "      <td>no</td>\n",
       "      <td>3</td>\n",
       "      <td>S3</td>\n",
       "      <td>C3</td>\n",
       "      <td>Forties</td>\n",
       "      <td>no</td>\n",
       "    </tr>\n",
       "    <tr>\n",
       "      <th>4</th>\n",
       "      <td>5</td>\n",
       "      <td>24</td>\n",
       "      <td>technician</td>\n",
       "      <td>single</td>\n",
       "      <td>professional.course</td>\n",
       "      <td>no</td>\n",
       "      <td>yes</td>\n",
       "      <td>no</td>\n",
       "      <td>3</td>\n",
       "      <td>S3</td>\n",
       "      <td>C3</td>\n",
       "      <td>Twenties</td>\n",
       "      <td>no</td>\n",
       "    </tr>\n",
       "  </tbody>\n",
       "</table>\n",
       "</div>"
      ],
      "text/plain": [
       "   Customer_id  age          job  marital            education  default  \\\n",
       "0            1   56     services  married          high.school       no   \n",
       "1            2   45     services  married             basic.9y  unknown   \n",
       "2            3   59       admin.  married  professional.course       no   \n",
       "3            4   41  blue-collar  married              unknown  unknown   \n",
       "4            5   24   technician   single  professional.course       no   \n",
       "\n",
       "  housing loan Region_Code State_Code City_Code age_category   y  \n",
       "0      no  yes           3         S1        C1      Fifties  no  \n",
       "1      no   no           3         S1        C1      Forties  no  \n",
       "2      no   no           4         S2        C2      Fifties  no  \n",
       "3      no   no           3         S3        C3      Forties  no  \n",
       "4     yes   no           3         S3        C3     Twenties  no  "
      ]
     },
     "execution_count": 147,
     "metadata": {},
     "output_type": "execute_result"
    }
   ],
   "source": [
    "#Joining tables of recorded customer data and whether the customer has subscribed or not\n",
    "cust_data=pd.merge(customer_details,customer_response,on='Customer_id',how='inner')\n",
    "cust_data.head()"
   ]
  },
  {
   "cell_type": "code",
   "execution_count": 148,
   "id": "ea6a3453",
   "metadata": {},
   "outputs": [
    {
     "name": "stdout",
     "output_type": "stream",
     "text": [
      "<class 'pandas.core.frame.DataFrame'>\n",
      "Int64Index: 37084 entries, 0 to 37083\n",
      "Data columns (total 13 columns):\n",
      " #   Column        Non-Null Count  Dtype \n",
      "---  ------        --------------  ----- \n",
      " 0   Customer_id   37084 non-null  int64 \n",
      " 1   age           37084 non-null  int64 \n",
      " 2   job           37084 non-null  object\n",
      " 3   marital       37084 non-null  object\n",
      " 4   education     37084 non-null  object\n",
      " 5   default       37084 non-null  object\n",
      " 6   housing       37084 non-null  object\n",
      " 7   loan          37084 non-null  object\n",
      " 8   Region_Code   37084 non-null  object\n",
      " 9   State_Code    37084 non-null  object\n",
      " 10  City_Code     37084 non-null  object\n",
      " 11  age_category  37084 non-null  object\n",
      " 12  y             37084 non-null  object\n",
      "dtypes: int64(2), object(11)\n",
      "memory usage: 4.0+ MB\n"
     ]
    }
   ],
   "source": [
    "#Columns data\n",
    "cust_data.info()"
   ]
  },
  {
   "cell_type": "code",
   "execution_count": 149,
   "id": "61681fbe",
   "metadata": {},
   "outputs": [
    {
     "data": {
      "text/plain": [
       "Customer_id     0\n",
       "age             0\n",
       "job             0\n",
       "marital         0\n",
       "education       0\n",
       "default         0\n",
       "housing         0\n",
       "loan            0\n",
       "Region_Code     0\n",
       "State_Code      0\n",
       "City_Code       0\n",
       "age_category    0\n",
       "y               0\n",
       "dtype: int64"
      ]
     },
     "execution_count": 149,
     "metadata": {},
     "output_type": "execute_result"
    }
   ],
   "source": [
    "cust_data.isnull().sum()"
   ]
  },
  {
   "cell_type": "markdown",
   "id": "3729d605",
   "metadata": {},
   "source": [
    "### There is no null data in the dataset"
   ]
  },
  {
   "cell_type": "code",
   "execution_count": 150,
   "id": "555d015b",
   "metadata": {},
   "outputs": [
    {
     "data": {
      "text/plain": [
       "Customer_id     0\n",
       "age             0\n",
       "job             0\n",
       "marital         0\n",
       "education       0\n",
       "default         0\n",
       "housing         0\n",
       "loan            0\n",
       "Region_Code     0\n",
       "State_Code      0\n",
       "City_Code       0\n",
       "age_category    0\n",
       "y               0\n",
       "dtype: int64"
      ]
     },
     "execution_count": 150,
     "metadata": {},
     "output_type": "execute_result"
    }
   ],
   "source": [
    "cust_data.isna().sum()"
   ]
  },
  {
   "cell_type": "code",
   "execution_count": 164,
   "id": "2ef0a428",
   "metadata": {},
   "outputs": [
    {
     "data": {
      "text/plain": [
       "11.34721173551936"
      ]
     },
     "execution_count": 164,
     "metadata": {},
     "output_type": "execute_result"
    }
   ],
   "source": [
    "#Average subscribing rate of our dataset\n",
    "cust_data['y'].value_counts()['yes']/(cust_data['y'].value_counts()['yes']+cust_data['y'].value_counts()['no'])*100\n"
   ]
  },
  {
   "cell_type": "code",
   "execution_count": 151,
   "id": "37b2d25d",
   "metadata": {},
   "outputs": [
    {
     "data": {
      "text/plain": [
       "married     22479\n",
       "single      10407\n",
       "divorced     4126\n",
       "unknown        72\n",
       "Name: marital, dtype: int64"
      ]
     },
     "execution_count": 151,
     "metadata": {},
     "output_type": "execute_result"
    }
   ],
   "source": [
    "#Marital values also have 72 unknown values\n",
    "cust_data['marital'].value_counts()"
   ]
  },
  {
   "cell_type": "code",
   "execution_count": 152,
   "id": "105457b6",
   "metadata": {},
   "outputs": [
    {
     "data": {
      "text/html": [
       "<div>\n",
       "<style scoped>\n",
       "    .dataframe tbody tr th:only-of-type {\n",
       "        vertical-align: middle;\n",
       "    }\n",
       "\n",
       "    .dataframe tbody tr th {\n",
       "        vertical-align: top;\n",
       "    }\n",
       "\n",
       "    .dataframe thead th {\n",
       "        text-align: right;\n",
       "    }\n",
       "</style>\n",
       "<table border=\"1\" class=\"dataframe\">\n",
       "  <thead>\n",
       "    <tr style=\"text-align: right;\">\n",
       "      <th></th>\n",
       "      <th>Customer_id</th>\n",
       "      <th>age</th>\n",
       "      <th>job</th>\n",
       "      <th>marital</th>\n",
       "      <th>education</th>\n",
       "      <th>default</th>\n",
       "      <th>housing</th>\n",
       "      <th>loan</th>\n",
       "      <th>Region_Code</th>\n",
       "      <th>State_Code</th>\n",
       "      <th>City_Code</th>\n",
       "      <th>age_category</th>\n",
       "      <th>y</th>\n",
       "    </tr>\n",
       "  </thead>\n",
       "  <tbody>\n",
       "    <tr>\n",
       "      <th>33</th>\n",
       "      <td>34</td>\n",
       "      <td>58</td>\n",
       "      <td>management</td>\n",
       "      <td>unknown</td>\n",
       "      <td>university.degree</td>\n",
       "      <td>no</td>\n",
       "      <td>yes</td>\n",
       "      <td>no</td>\n",
       "      <td>2</td>\n",
       "      <td>S10</td>\n",
       "      <td>C11</td>\n",
       "      <td>Fifties</td>\n",
       "      <td>no</td>\n",
       "    </tr>\n",
       "    <tr>\n",
       "      <th>346</th>\n",
       "      <td>347</td>\n",
       "      <td>59</td>\n",
       "      <td>retired</td>\n",
       "      <td>unknown</td>\n",
       "      <td>university.degree</td>\n",
       "      <td>unknown</td>\n",
       "      <td>no</td>\n",
       "      <td>no</td>\n",
       "      <td>2</td>\n",
       "      <td>S32</td>\n",
       "      <td>C91</td>\n",
       "      <td>Fifties</td>\n",
       "      <td>no</td>\n",
       "    </tr>\n",
       "    <tr>\n",
       "      <th>367</th>\n",
       "      <td>368</td>\n",
       "      <td>57</td>\n",
       "      <td>retired</td>\n",
       "      <td>unknown</td>\n",
       "      <td>basic.4y</td>\n",
       "      <td>no</td>\n",
       "      <td>no</td>\n",
       "      <td>no</td>\n",
       "      <td>2</td>\n",
       "      <td>S30</td>\n",
       "      <td>C92</td>\n",
       "      <td>Fifties</td>\n",
       "      <td>no</td>\n",
       "    </tr>\n",
       "    <tr>\n",
       "      <th>1334</th>\n",
       "      <td>1335</td>\n",
       "      <td>33</td>\n",
       "      <td>services</td>\n",
       "      <td>unknown</td>\n",
       "      <td>high.school</td>\n",
       "      <td>no</td>\n",
       "      <td>yes</td>\n",
       "      <td>yes</td>\n",
       "      <td>4</td>\n",
       "      <td>S2</td>\n",
       "      <td>C2</td>\n",
       "      <td>Thirties</td>\n",
       "      <td>no</td>\n",
       "    </tr>\n",
       "    <tr>\n",
       "      <th>1435</th>\n",
       "      <td>1436</td>\n",
       "      <td>32</td>\n",
       "      <td>unknown</td>\n",
       "      <td>unknown</td>\n",
       "      <td>university.degree</td>\n",
       "      <td>no</td>\n",
       "      <td>no</td>\n",
       "      <td>no</td>\n",
       "      <td>2</td>\n",
       "      <td>S25</td>\n",
       "      <td>C216</td>\n",
       "      <td>Thirties</td>\n",
       "      <td>yes</td>\n",
       "    </tr>\n",
       "    <tr>\n",
       "      <th>...</th>\n",
       "      <td>...</td>\n",
       "      <td>...</td>\n",
       "      <td>...</td>\n",
       "      <td>...</td>\n",
       "      <td>...</td>\n",
       "      <td>...</td>\n",
       "      <td>...</td>\n",
       "      <td>...</td>\n",
       "      <td>...</td>\n",
       "      <td>...</td>\n",
       "      <td>...</td>\n",
       "      <td>...</td>\n",
       "      <td>...</td>\n",
       "    </tr>\n",
       "    <tr>\n",
       "      <th>34699</th>\n",
       "      <td>34700</td>\n",
       "      <td>31</td>\n",
       "      <td>entrepreneur</td>\n",
       "      <td>unknown</td>\n",
       "      <td>university.degree</td>\n",
       "      <td>no</td>\n",
       "      <td>no</td>\n",
       "      <td>no</td>\n",
       "      <td>2</td>\n",
       "      <td>S40</td>\n",
       "      <td>C249</td>\n",
       "      <td>Thirties</td>\n",
       "      <td>yes</td>\n",
       "    </tr>\n",
       "    <tr>\n",
       "      <th>34726</th>\n",
       "      <td>34727</td>\n",
       "      <td>31</td>\n",
       "      <td>entrepreneur</td>\n",
       "      <td>unknown</td>\n",
       "      <td>university.degree</td>\n",
       "      <td>no</td>\n",
       "      <td>yes</td>\n",
       "      <td>no</td>\n",
       "      <td>1</td>\n",
       "      <td>S12</td>\n",
       "      <td>C31</td>\n",
       "      <td>Thirties</td>\n",
       "      <td>no</td>\n",
       "    </tr>\n",
       "    <tr>\n",
       "      <th>35393</th>\n",
       "      <td>35394</td>\n",
       "      <td>30</td>\n",
       "      <td>technician</td>\n",
       "      <td>unknown</td>\n",
       "      <td>university.degree</td>\n",
       "      <td>no</td>\n",
       "      <td>no</td>\n",
       "      <td>no</td>\n",
       "      <td>4</td>\n",
       "      <td>S28</td>\n",
       "      <td>C442</td>\n",
       "      <td>Retired</td>\n",
       "      <td>yes</td>\n",
       "    </tr>\n",
       "    <tr>\n",
       "      <th>35394</th>\n",
       "      <td>35395</td>\n",
       "      <td>30</td>\n",
       "      <td>technician</td>\n",
       "      <td>unknown</td>\n",
       "      <td>university.degree</td>\n",
       "      <td>no</td>\n",
       "      <td>no</td>\n",
       "      <td>no</td>\n",
       "      <td>4</td>\n",
       "      <td>S28</td>\n",
       "      <td>C442</td>\n",
       "      <td>Retired</td>\n",
       "      <td>yes</td>\n",
       "    </tr>\n",
       "    <tr>\n",
       "      <th>36791</th>\n",
       "      <td>36792</td>\n",
       "      <td>30</td>\n",
       "      <td>technician</td>\n",
       "      <td>unknown</td>\n",
       "      <td>university.degree</td>\n",
       "      <td>no</td>\n",
       "      <td>no</td>\n",
       "      <td>no</td>\n",
       "      <td>2</td>\n",
       "      <td>S10</td>\n",
       "      <td>C11</td>\n",
       "      <td>Retired</td>\n",
       "      <td>no</td>\n",
       "    </tr>\n",
       "  </tbody>\n",
       "</table>\n",
       "<p>72 rows × 13 columns</p>\n",
       "</div>"
      ],
      "text/plain": [
       "       Customer_id  age           job  marital          education  default  \\\n",
       "33              34   58    management  unknown  university.degree       no   \n",
       "346            347   59       retired  unknown  university.degree  unknown   \n",
       "367            368   57       retired  unknown           basic.4y       no   \n",
       "1334          1335   33      services  unknown        high.school       no   \n",
       "1435          1436   32       unknown  unknown  university.degree       no   \n",
       "...            ...  ...           ...      ...                ...      ...   \n",
       "34699        34700   31  entrepreneur  unknown  university.degree       no   \n",
       "34726        34727   31  entrepreneur  unknown  university.degree       no   \n",
       "35393        35394   30    technician  unknown  university.degree       no   \n",
       "35394        35395   30    technician  unknown  university.degree       no   \n",
       "36791        36792   30    technician  unknown  university.degree       no   \n",
       "\n",
       "      housing loan Region_Code State_Code City_Code age_category    y  \n",
       "33        yes   no           2        S10       C11      Fifties   no  \n",
       "346        no   no           2        S32       C91      Fifties   no  \n",
       "367        no   no           2        S30       C92      Fifties   no  \n",
       "1334      yes  yes           4         S2        C2     Thirties   no  \n",
       "1435       no   no           2        S25      C216     Thirties  yes  \n",
       "...       ...  ...         ...        ...       ...          ...  ...  \n",
       "34699      no   no           2        S40      C249     Thirties  yes  \n",
       "34726     yes   no           1        S12       C31     Thirties   no  \n",
       "35393      no   no           4        S28      C442      Retired  yes  \n",
       "35394      no   no           4        S28      C442      Retired  yes  \n",
       "36791      no   no           2        S10       C11      Retired   no  \n",
       "\n",
       "[72 rows x 13 columns]"
      ]
     },
     "execution_count": 152,
     "metadata": {},
     "output_type": "execute_result"
    }
   ],
   "source": [
    "cust_data[cust_data['marital']=='unknown']"
   ]
  },
  {
   "cell_type": "code",
   "execution_count": 153,
   "id": "e44333ca",
   "metadata": {},
   "outputs": [
    {
     "data": {
      "text/html": [
       "<div>\n",
       "<style scoped>\n",
       "    .dataframe tbody tr th:only-of-type {\n",
       "        vertical-align: middle;\n",
       "    }\n",
       "\n",
       "    .dataframe tbody tr th {\n",
       "        vertical-align: top;\n",
       "    }\n",
       "\n",
       "    .dataframe thead tr th {\n",
       "        text-align: left;\n",
       "    }\n",
       "\n",
       "    .dataframe thead tr:last-of-type th {\n",
       "        text-align: right;\n",
       "    }\n",
       "</style>\n",
       "<table border=\"1\" class=\"dataframe\">\n",
       "  <thead>\n",
       "    <tr>\n",
       "      <th></th>\n",
       "      <th colspan=\"3\" halign=\"left\">Customer_id</th>\n",
       "    </tr>\n",
       "    <tr>\n",
       "      <th>y</th>\n",
       "      <th>no</th>\n",
       "      <th>yes</th>\n",
       "      <th>Total</th>\n",
       "    </tr>\n",
       "    <tr>\n",
       "      <th>marital</th>\n",
       "      <th></th>\n",
       "      <th></th>\n",
       "      <th></th>\n",
       "    </tr>\n",
       "  </thead>\n",
       "  <tbody>\n",
       "    <tr>\n",
       "      <th>divorced</th>\n",
       "      <td>3699</td>\n",
       "      <td>427</td>\n",
       "      <td>4126</td>\n",
       "    </tr>\n",
       "    <tr>\n",
       "      <th>married</th>\n",
       "      <td>20187</td>\n",
       "      <td>2292</td>\n",
       "      <td>22479</td>\n",
       "    </tr>\n",
       "    <tr>\n",
       "      <th>single</th>\n",
       "      <td>8930</td>\n",
       "      <td>1477</td>\n",
       "      <td>10407</td>\n",
       "    </tr>\n",
       "    <tr>\n",
       "      <th>unknown</th>\n",
       "      <td>60</td>\n",
       "      <td>12</td>\n",
       "      <td>72</td>\n",
       "    </tr>\n",
       "    <tr>\n",
       "      <th>Total</th>\n",
       "      <td>32876</td>\n",
       "      <td>4208</td>\n",
       "      <td>37084</td>\n",
       "    </tr>\n",
       "  </tbody>\n",
       "</table>\n",
       "</div>"
      ],
      "text/plain": [
       "         Customer_id             \n",
       "y                 no   yes  Total\n",
       "marital                          \n",
       "divorced        3699   427   4126\n",
       "married        20187  2292  22479\n",
       "single          8930  1477  10407\n",
       "unknown           60    12     72\n",
       "Total          32876  4208  37084"
      ]
     },
     "execution_count": 153,
     "metadata": {},
     "output_type": "execute_result"
    }
   ],
   "source": [
    "#Creating a pivot table\n",
    "marital_status=pd.pivot_table(data=cust_data,index=['marital'],columns=['y'],values=['Customer_id'],aggfunc='count',margins=True, margins_name='Total')\n",
    "marital_status"
   ]
  },
  {
   "cell_type": "code",
   "execution_count": 159,
   "id": "176fa1b9",
   "metadata": {},
   "outputs": [
    {
     "data": {
      "text/plain": [
       "\"plt.style.use('dark_background')\\nplt.figure(figsize=(20, 6))\\nplt.title('Marital Status  of our subscribers')\\nplt.bar(marital_status['marital'],cust_data['y'])\\n#plt.xticks(rotation=45)\\n#plt.ylabel('in millions')\\n#plt.grid(True, 'major', linestyle='--', c='grey')\\nplt.show()\""
      ]
     },
     "execution_count": 159,
     "metadata": {},
     "output_type": "execute_result"
    }
   ],
   "source": [
    "'''plt.style.use('dark_background')\n",
    "plt.figure(figsize=(20, 6))\n",
    "plt.title('Marital Status  of our subscribers')\n",
    "plt.bar(marital_status['marital'],cust_data['y'])\n",
    "#plt.xticks(rotation=45)\n",
    "#plt.ylabel('in millions')\n",
    "#plt.grid(True, 'major', linestyle='--', c='grey')\n",
    "plt.show()'''"
   ]
  },
  {
   "cell_type": "code",
   "execution_count": 93,
   "id": "838ed603",
   "metadata": {},
   "outputs": [],
   "source": [
    "#Calculating the success rate acheived\n",
    "marital_status['Success Rate']=(marital_status['Customer_id']['yes']/marital_status['Customer_id']['Total'])*100\n",
    "marital_status.sort_values(by='Success Rate',ascending=False,inplace=True)"
   ]
  },
  {
   "cell_type": "code",
   "execution_count": 94,
   "id": "5d6df438",
   "metadata": {},
   "outputs": [
    {
     "data": {
      "text/html": [
       "<div>\n",
       "<style scoped>\n",
       "    .dataframe tbody tr th:only-of-type {\n",
       "        vertical-align: middle;\n",
       "    }\n",
       "\n",
       "    .dataframe tbody tr th {\n",
       "        vertical-align: top;\n",
       "    }\n",
       "\n",
       "    .dataframe thead tr th {\n",
       "        text-align: left;\n",
       "    }\n",
       "\n",
       "    .dataframe thead tr:last-of-type th {\n",
       "        text-align: right;\n",
       "    }\n",
       "</style>\n",
       "<table border=\"1\" class=\"dataframe\">\n",
       "  <thead>\n",
       "    <tr>\n",
       "      <th></th>\n",
       "      <th colspan=\"3\" halign=\"left\">Customer_id</th>\n",
       "      <th>Success Rate</th>\n",
       "    </tr>\n",
       "    <tr>\n",
       "      <th>y</th>\n",
       "      <th>no</th>\n",
       "      <th>yes</th>\n",
       "      <th>Total</th>\n",
       "      <th></th>\n",
       "    </tr>\n",
       "    <tr>\n",
       "      <th>marital</th>\n",
       "      <th></th>\n",
       "      <th></th>\n",
       "      <th></th>\n",
       "      <th></th>\n",
       "    </tr>\n",
       "  </thead>\n",
       "  <tbody>\n",
       "    <tr>\n",
       "      <th>unknown</th>\n",
       "      <td>60</td>\n",
       "      <td>12</td>\n",
       "      <td>72</td>\n",
       "      <td>16.666667</td>\n",
       "    </tr>\n",
       "    <tr>\n",
       "      <th>single</th>\n",
       "      <td>8930</td>\n",
       "      <td>1477</td>\n",
       "      <td>10407</td>\n",
       "      <td>14.192371</td>\n",
       "    </tr>\n",
       "    <tr>\n",
       "      <th>Total</th>\n",
       "      <td>32876</td>\n",
       "      <td>4208</td>\n",
       "      <td>37084</td>\n",
       "      <td>11.347212</td>\n",
       "    </tr>\n",
       "    <tr>\n",
       "      <th>divorced</th>\n",
       "      <td>3699</td>\n",
       "      <td>427</td>\n",
       "      <td>4126</td>\n",
       "      <td>10.349006</td>\n",
       "    </tr>\n",
       "    <tr>\n",
       "      <th>married</th>\n",
       "      <td>20187</td>\n",
       "      <td>2292</td>\n",
       "      <td>22479</td>\n",
       "      <td>10.196183</td>\n",
       "    </tr>\n",
       "  </tbody>\n",
       "</table>\n",
       "</div>"
      ],
      "text/plain": [
       "         Customer_id              Success Rate\n",
       "y                 no   yes  Total             \n",
       "marital                                       \n",
       "unknown           60    12     72    16.666667\n",
       "single          8930  1477  10407    14.192371\n",
       "Total          32876  4208  37084    11.347212\n",
       "divorced        3699   427   4126    10.349006\n",
       "married        20187  2292  22479    10.196183"
      ]
     },
     "execution_count": 94,
     "metadata": {},
     "output_type": "execute_result"
    }
   ],
   "source": [
    "marital_status"
   ]
  },
  {
   "cell_type": "code",
   "execution_count": 92,
   "id": "734b3644",
   "metadata": {},
   "outputs": [
    {
     "data": {
      "text/html": [
       "<div>\n",
       "<style scoped>\n",
       "    .dataframe tbody tr th:only-of-type {\n",
       "        vertical-align: middle;\n",
       "    }\n",
       "\n",
       "    .dataframe tbody tr th {\n",
       "        vertical-align: top;\n",
       "    }\n",
       "\n",
       "    .dataframe thead tr th {\n",
       "        text-align: left;\n",
       "    }\n",
       "\n",
       "    .dataframe thead tr:last-of-type th {\n",
       "        text-align: right;\n",
       "    }\n",
       "</style>\n",
       "<table border=\"1\" class=\"dataframe\">\n",
       "  <thead>\n",
       "    <tr>\n",
       "      <th></th>\n",
       "      <th colspan=\"3\" halign=\"left\">Customer_id</th>\n",
       "      <th>Success Rate</th>\n",
       "    </tr>\n",
       "    <tr>\n",
       "      <th>y</th>\n",
       "      <th>no</th>\n",
       "      <th>yes</th>\n",
       "      <th>Total</th>\n",
       "      <th></th>\n",
       "    </tr>\n",
       "    <tr>\n",
       "      <th>loan</th>\n",
       "      <th></th>\n",
       "      <th></th>\n",
       "      <th></th>\n",
       "      <th></th>\n",
       "    </tr>\n",
       "  </thead>\n",
       "  <tbody>\n",
       "    <tr>\n",
       "      <th>no</th>\n",
       "      <td>27062</td>\n",
       "      <td>3499</td>\n",
       "      <td>30561</td>\n",
       "      <td>11.449233</td>\n",
       "    </tr>\n",
       "    <tr>\n",
       "      <th>Total</th>\n",
       "      <td>32876</td>\n",
       "      <td>4208</td>\n",
       "      <td>37084</td>\n",
       "      <td>11.347212</td>\n",
       "    </tr>\n",
       "    <tr>\n",
       "      <th>yes</th>\n",
       "      <td>5023</td>\n",
       "      <td>618</td>\n",
       "      <td>5641</td>\n",
       "      <td>10.955504</td>\n",
       "    </tr>\n",
       "    <tr>\n",
       "      <th>unknown</th>\n",
       "      <td>791</td>\n",
       "      <td>91</td>\n",
       "      <td>882</td>\n",
       "      <td>10.317460</td>\n",
       "    </tr>\n",
       "  </tbody>\n",
       "</table>\n",
       "</div>"
      ],
      "text/plain": [
       "        Customer_id              Success Rate\n",
       "y                no   yes  Total             \n",
       "loan                                         \n",
       "no            27062  3499  30561    11.449233\n",
       "Total         32876  4208  37084    11.347212\n",
       "yes            5023   618   5641    10.955504\n",
       "unknown         791    91    882    10.317460"
      ]
     },
     "execution_count": 92,
     "metadata": {},
     "output_type": "execute_result"
    }
   ],
   "source": [
    "loan_status=pd.pivot_table(data=cust_data,index=['loan'],columns=['y'],values=['Customer_id'],aggfunc='count',margins=True, margins_name='Total')\n",
    "loan_status['Success Rate']=(loan_status['Customer_id']['yes']/loan_status['Customer_id']['Total'])*100\n",
    "loan_status.sort_values(by='Success Rate',ascending=False,inplace=True)\n",
    "loan_status"
   ]
  },
  {
   "cell_type": "code",
   "execution_count": 90,
   "id": "704f7415",
   "metadata": {},
   "outputs": [
    {
     "data": {
      "text/html": [
       "<div>\n",
       "<style scoped>\n",
       "    .dataframe tbody tr th:only-of-type {\n",
       "        vertical-align: middle;\n",
       "    }\n",
       "\n",
       "    .dataframe tbody tr th {\n",
       "        vertical-align: top;\n",
       "    }\n",
       "\n",
       "    .dataframe thead tr th {\n",
       "        text-align: left;\n",
       "    }\n",
       "\n",
       "    .dataframe thead tr:last-of-type th {\n",
       "        text-align: right;\n",
       "    }\n",
       "</style>\n",
       "<table border=\"1\" class=\"dataframe\">\n",
       "  <thead>\n",
       "    <tr>\n",
       "      <th></th>\n",
       "      <th colspan=\"3\" halign=\"left\">Customer_id</th>\n",
       "      <th>Success Rate</th>\n",
       "    </tr>\n",
       "    <tr>\n",
       "      <th>y</th>\n",
       "      <th>no</th>\n",
       "      <th>yes</th>\n",
       "      <th>Total</th>\n",
       "      <th></th>\n",
       "    </tr>\n",
       "    <tr>\n",
       "      <th>education</th>\n",
       "      <th></th>\n",
       "      <th></th>\n",
       "      <th></th>\n",
       "      <th></th>\n",
       "    </tr>\n",
       "  </thead>\n",
       "  <tbody>\n",
       "    <tr>\n",
       "      <th>unknown</th>\n",
       "      <td>1318</td>\n",
       "      <td>231</td>\n",
       "      <td>1549</td>\n",
       "      <td>14.912847</td>\n",
       "    </tr>\n",
       "    <tr>\n",
       "      <th>university.degree</th>\n",
       "      <td>9464</td>\n",
       "      <td>1507</td>\n",
       "      <td>10971</td>\n",
       "      <td>13.736214</td>\n",
       "    </tr>\n",
       "    <tr>\n",
       "      <th>illiterate</th>\n",
       "      <td>14</td>\n",
       "      <td>2</td>\n",
       "      <td>16</td>\n",
       "      <td>12.500000</td>\n",
       "    </tr>\n",
       "    <tr>\n",
       "      <th>professional.course</th>\n",
       "      <td>4205</td>\n",
       "      <td>541</td>\n",
       "      <td>4746</td>\n",
       "      <td>11.399073</td>\n",
       "    </tr>\n",
       "    <tr>\n",
       "      <th>Total</th>\n",
       "      <td>32876</td>\n",
       "      <td>4208</td>\n",
       "      <td>37084</td>\n",
       "      <td>11.347212</td>\n",
       "    </tr>\n",
       "    <tr>\n",
       "      <th>high.school</th>\n",
       "      <td>7597</td>\n",
       "      <td>945</td>\n",
       "      <td>8542</td>\n",
       "      <td>11.062983</td>\n",
       "    </tr>\n",
       "    <tr>\n",
       "      <th>basic.4y</th>\n",
       "      <td>3374</td>\n",
       "      <td>391</td>\n",
       "      <td>3765</td>\n",
       "      <td>10.385126</td>\n",
       "    </tr>\n",
       "    <tr>\n",
       "      <th>basic.6y</th>\n",
       "      <td>1903</td>\n",
       "      <td>171</td>\n",
       "      <td>2074</td>\n",
       "      <td>8.244937</td>\n",
       "    </tr>\n",
       "    <tr>\n",
       "      <th>basic.9y</th>\n",
       "      <td>5001</td>\n",
       "      <td>420</td>\n",
       "      <td>5421</td>\n",
       "      <td>7.747648</td>\n",
       "    </tr>\n",
       "  </tbody>\n",
       "</table>\n",
       "</div>"
      ],
      "text/plain": [
       "                    Customer_id              Success Rate\n",
       "y                            no   yes  Total             \n",
       "education                                                \n",
       "unknown                    1318   231   1549    14.912847\n",
       "university.degree          9464  1507  10971    13.736214\n",
       "illiterate                   14     2     16    12.500000\n",
       "professional.course        4205   541   4746    11.399073\n",
       "Total                     32876  4208  37084    11.347212\n",
       "high.school                7597   945   8542    11.062983\n",
       "basic.4y                   3374   391   3765    10.385126\n",
       "basic.6y                   1903   171   2074     8.244937\n",
       "basic.9y                   5001   420   5421     7.747648"
      ]
     },
     "execution_count": 90,
     "metadata": {},
     "output_type": "execute_result"
    }
   ],
   "source": [
    "education_status=pd.pivot_table(data=cust_data,index=['education'],columns=['y'],values=['Customer_id'],aggfunc='count',margins=True, margins_name='Total')\n",
    "education_status['Success Rate']=(education_status['Customer_id']['yes']/education_status['Customer_id']['Total'])*100\n",
    "education_status.sort_values(by='Success Rate',ascending=False,inplace=True)\n",
    "education_status"
   ]
  },
  {
   "cell_type": "code",
   "execution_count": 89,
   "id": "7c953079",
   "metadata": {},
   "outputs": [
    {
     "data": {
      "text/html": [
       "<div>\n",
       "<style scoped>\n",
       "    .dataframe tbody tr th:only-of-type {\n",
       "        vertical-align: middle;\n",
       "    }\n",
       "\n",
       "    .dataframe tbody tr th {\n",
       "        vertical-align: top;\n",
       "    }\n",
       "\n",
       "    .dataframe thead tr th {\n",
       "        text-align: left;\n",
       "    }\n",
       "\n",
       "    .dataframe thead tr:last-of-type th {\n",
       "        text-align: right;\n",
       "    }\n",
       "</style>\n",
       "<table border=\"1\" class=\"dataframe\">\n",
       "  <thead>\n",
       "    <tr>\n",
       "      <th></th>\n",
       "      <th colspan=\"3\" halign=\"left\">Customer_id</th>\n",
       "      <th>Success Rate</th>\n",
       "    </tr>\n",
       "    <tr>\n",
       "      <th>y</th>\n",
       "      <th>no</th>\n",
       "      <th>yes</th>\n",
       "      <th>Total</th>\n",
       "      <th></th>\n",
       "    </tr>\n",
       "    <tr>\n",
       "      <th>job</th>\n",
       "      <th></th>\n",
       "      <th></th>\n",
       "      <th></th>\n",
       "      <th></th>\n",
       "    </tr>\n",
       "  </thead>\n",
       "  <tbody>\n",
       "    <tr>\n",
       "      <th>student</th>\n",
       "      <td>527</td>\n",
       "      <td>240</td>\n",
       "      <td>767</td>\n",
       "      <td>31.290743</td>\n",
       "    </tr>\n",
       "    <tr>\n",
       "      <th>retired</th>\n",
       "      <td>1146</td>\n",
       "      <td>395</td>\n",
       "      <td>1541</td>\n",
       "      <td>25.632706</td>\n",
       "    </tr>\n",
       "    <tr>\n",
       "      <th>unemployed</th>\n",
       "      <td>791</td>\n",
       "      <td>134</td>\n",
       "      <td>925</td>\n",
       "      <td>14.486486</td>\n",
       "    </tr>\n",
       "    <tr>\n",
       "      <th>admin.</th>\n",
       "      <td>8174</td>\n",
       "      <td>1246</td>\n",
       "      <td>9420</td>\n",
       "      <td>13.227176</td>\n",
       "    </tr>\n",
       "    <tr>\n",
       "      <th>unknown</th>\n",
       "      <td>271</td>\n",
       "      <td>35</td>\n",
       "      <td>306</td>\n",
       "      <td>11.437908</td>\n",
       "    </tr>\n",
       "    <tr>\n",
       "      <th>Total</th>\n",
       "      <td>32876</td>\n",
       "      <td>4208</td>\n",
       "      <td>37084</td>\n",
       "      <td>11.347212</td>\n",
       "    </tr>\n",
       "    <tr>\n",
       "      <th>management</th>\n",
       "      <td>2345</td>\n",
       "      <td>292</td>\n",
       "      <td>2637</td>\n",
       "      <td>11.073189</td>\n",
       "    </tr>\n",
       "    <tr>\n",
       "      <th>technician</th>\n",
       "      <td>5439</td>\n",
       "      <td>657</td>\n",
       "      <td>6096</td>\n",
       "      <td>10.777559</td>\n",
       "    </tr>\n",
       "    <tr>\n",
       "      <th>self-employed</th>\n",
       "      <td>1145</td>\n",
       "      <td>131</td>\n",
       "      <td>1276</td>\n",
       "      <td>10.266458</td>\n",
       "    </tr>\n",
       "    <tr>\n",
       "      <th>housemaid</th>\n",
       "      <td>853</td>\n",
       "      <td>93</td>\n",
       "      <td>946</td>\n",
       "      <td>9.830867</td>\n",
       "    </tr>\n",
       "    <tr>\n",
       "      <th>entrepreneur</th>\n",
       "      <td>1198</td>\n",
       "      <td>111</td>\n",
       "      <td>1309</td>\n",
       "      <td>8.479756</td>\n",
       "    </tr>\n",
       "    <tr>\n",
       "      <th>services</th>\n",
       "      <td>3249</td>\n",
       "      <td>298</td>\n",
       "      <td>3547</td>\n",
       "      <td>8.401466</td>\n",
       "    </tr>\n",
       "    <tr>\n",
       "      <th>blue-collar</th>\n",
       "      <td>7738</td>\n",
       "      <td>576</td>\n",
       "      <td>8314</td>\n",
       "      <td>6.928073</td>\n",
       "    </tr>\n",
       "  </tbody>\n",
       "</table>\n",
       "</div>"
      ],
      "text/plain": [
       "              Customer_id              Success Rate\n",
       "y                      no   yes  Total             \n",
       "job                                                \n",
       "student               527   240    767    31.290743\n",
       "retired              1146   395   1541    25.632706\n",
       "unemployed            791   134    925    14.486486\n",
       "admin.               8174  1246   9420    13.227176\n",
       "unknown               271    35    306    11.437908\n",
       "Total               32876  4208  37084    11.347212\n",
       "management           2345   292   2637    11.073189\n",
       "technician           5439   657   6096    10.777559\n",
       "self-employed        1145   131   1276    10.266458\n",
       "housemaid             853    93    946     9.830867\n",
       "entrepreneur         1198   111   1309     8.479756\n",
       "services             3249   298   3547     8.401466\n",
       "blue-collar          7738   576   8314     6.928073"
      ]
     },
     "execution_count": 89,
     "metadata": {},
     "output_type": "execute_result"
    }
   ],
   "source": [
    "job_status=pd.pivot_table(data=cust_data,index=['job'],columns=['y'],values=['Customer_id'],aggfunc='count',margins=True, margins_name='Total')\n",
    "job_status['Success Rate']=(job_status['Customer_id']['yes']/job_status['Customer_id']['Total'])*100\n",
    "job_status.sort_values(by='Success Rate',ascending=False,inplace=True)\n",
    "job_status"
   ]
  },
  {
   "cell_type": "code",
   "execution_count": 95,
   "id": "526f4519",
   "metadata": {},
   "outputs": [
    {
     "data": {
      "text/html": [
       "<div>\n",
       "<style scoped>\n",
       "    .dataframe tbody tr th:only-of-type {\n",
       "        vertical-align: middle;\n",
       "    }\n",
       "\n",
       "    .dataframe tbody tr th {\n",
       "        vertical-align: top;\n",
       "    }\n",
       "\n",
       "    .dataframe thead tr th {\n",
       "        text-align: left;\n",
       "    }\n",
       "\n",
       "    .dataframe thead tr:last-of-type th {\n",
       "        text-align: right;\n",
       "    }\n",
       "</style>\n",
       "<table border=\"1\" class=\"dataframe\">\n",
       "  <thead>\n",
       "    <tr>\n",
       "      <th></th>\n",
       "      <th colspan=\"3\" halign=\"left\">Customer_id</th>\n",
       "      <th>Success Rate</th>\n",
       "    </tr>\n",
       "    <tr>\n",
       "      <th>y</th>\n",
       "      <th>no</th>\n",
       "      <th>yes</th>\n",
       "      <th>Total</th>\n",
       "      <th></th>\n",
       "    </tr>\n",
       "    <tr>\n",
       "      <th>housing</th>\n",
       "      <th></th>\n",
       "      <th></th>\n",
       "      <th></th>\n",
       "      <th></th>\n",
       "    </tr>\n",
       "  </thead>\n",
       "  <tbody>\n",
       "    <tr>\n",
       "      <th>yes</th>\n",
       "      <td>17154</td>\n",
       "      <td>2279</td>\n",
       "      <td>19433</td>\n",
       "      <td>11.727474</td>\n",
       "    </tr>\n",
       "    <tr>\n",
       "      <th>Total</th>\n",
       "      <td>32876</td>\n",
       "      <td>4208</td>\n",
       "      <td>37084</td>\n",
       "      <td>11.347212</td>\n",
       "    </tr>\n",
       "    <tr>\n",
       "      <th>no</th>\n",
       "      <td>14931</td>\n",
       "      <td>1838</td>\n",
       "      <td>16769</td>\n",
       "      <td>10.960701</td>\n",
       "    </tr>\n",
       "    <tr>\n",
       "      <th>unknown</th>\n",
       "      <td>791</td>\n",
       "      <td>91</td>\n",
       "      <td>882</td>\n",
       "      <td>10.317460</td>\n",
       "    </tr>\n",
       "  </tbody>\n",
       "</table>\n",
       "</div>"
      ],
      "text/plain": [
       "        Customer_id              Success Rate\n",
       "y                no   yes  Total             \n",
       "housing                                      \n",
       "yes           17154  2279  19433    11.727474\n",
       "Total         32876  4208  37084    11.347212\n",
       "no            14931  1838  16769    10.960701\n",
       "unknown         791    91    882    10.317460"
      ]
     },
     "execution_count": 95,
     "metadata": {},
     "output_type": "execute_result"
    }
   ],
   "source": [
    "housing_status=pd.pivot_table(data=cust_data,index=['housing'],columns=['y'],values=['Customer_id'],aggfunc='count',margins=True, margins_name='Total')\n",
    "housing_status['Success Rate']=(housing_status['Customer_id']['yes']/housing_status['Customer_id']['Total'])*100\n",
    "housing_status.sort_values(by='Success Rate',ascending=False,inplace=True)\n",
    "housing_status"
   ]
  },
  {
   "cell_type": "code",
   "execution_count": 96,
   "id": "5063c4f6",
   "metadata": {},
   "outputs": [
    {
     "data": {
      "text/html": [
       "<div>\n",
       "<style scoped>\n",
       "    .dataframe tbody tr th:only-of-type {\n",
       "        vertical-align: middle;\n",
       "    }\n",
       "\n",
       "    .dataframe tbody tr th {\n",
       "        vertical-align: top;\n",
       "    }\n",
       "\n",
       "    .dataframe thead tr th {\n",
       "        text-align: left;\n",
       "    }\n",
       "\n",
       "    .dataframe thead tr:last-of-type th {\n",
       "        text-align: right;\n",
       "    }\n",
       "</style>\n",
       "<table border=\"1\" class=\"dataframe\">\n",
       "  <thead>\n",
       "    <tr>\n",
       "      <th></th>\n",
       "      <th colspan=\"3\" halign=\"left\">Customer_id</th>\n",
       "      <th>Success Rate</th>\n",
       "    </tr>\n",
       "    <tr>\n",
       "      <th>y</th>\n",
       "      <th>no</th>\n",
       "      <th>yes</th>\n",
       "      <th>Total</th>\n",
       "      <th></th>\n",
       "    </tr>\n",
       "    <tr>\n",
       "      <th>housing</th>\n",
       "      <th></th>\n",
       "      <th></th>\n",
       "      <th></th>\n",
       "      <th></th>\n",
       "    </tr>\n",
       "  </thead>\n",
       "  <tbody>\n",
       "    <tr>\n",
       "      <th>yes</th>\n",
       "      <td>17154</td>\n",
       "      <td>2279</td>\n",
       "      <td>19433</td>\n",
       "      <td>11.727474</td>\n",
       "    </tr>\n",
       "    <tr>\n",
       "      <th>Total</th>\n",
       "      <td>32876</td>\n",
       "      <td>4208</td>\n",
       "      <td>37084</td>\n",
       "      <td>11.347212</td>\n",
       "    </tr>\n",
       "    <tr>\n",
       "      <th>no</th>\n",
       "      <td>14931</td>\n",
       "      <td>1838</td>\n",
       "      <td>16769</td>\n",
       "      <td>10.960701</td>\n",
       "    </tr>\n",
       "    <tr>\n",
       "      <th>unknown</th>\n",
       "      <td>791</td>\n",
       "      <td>91</td>\n",
       "      <td>882</td>\n",
       "      <td>10.317460</td>\n",
       "    </tr>\n",
       "  </tbody>\n",
       "</table>\n",
       "</div>"
      ],
      "text/plain": [
       "        Customer_id              Success Rate\n",
       "y                no   yes  Total             \n",
       "housing                                      \n",
       "yes           17154  2279  19433    11.727474\n",
       "Total         32876  4208  37084    11.347212\n",
       "no            14931  1838  16769    10.960701\n",
       "unknown         791    91    882    10.317460"
      ]
     },
     "execution_count": 96,
     "metadata": {},
     "output_type": "execute_result"
    }
   ],
   "source": [
    "housing_status=pd.pivot_table(data=cust_data,index=['housing'],columns=['y'],values=['Customer_id'],aggfunc='count',margins=True, margins_name='Total')\n",
    "housing_status['Success Rate']=(housing_status['Customer_id']['yes']/housing_status['Customer_id']['Total'])*100\n",
    "housing_status.sort_values(by='Success Rate',ascending=False,inplace=True)\n",
    "housing_status"
   ]
  },
  {
   "cell_type": "code",
   "execution_count": 97,
   "id": "5a91b894",
   "metadata": {},
   "outputs": [
    {
     "data": {
      "text/html": [
       "<div>\n",
       "<style scoped>\n",
       "    .dataframe tbody tr th:only-of-type {\n",
       "        vertical-align: middle;\n",
       "    }\n",
       "\n",
       "    .dataframe tbody tr th {\n",
       "        vertical-align: top;\n",
       "    }\n",
       "\n",
       "    .dataframe thead tr th {\n",
       "        text-align: left;\n",
       "    }\n",
       "\n",
       "    .dataframe thead tr:last-of-type th {\n",
       "        text-align: right;\n",
       "    }\n",
       "</style>\n",
       "<table border=\"1\" class=\"dataframe\">\n",
       "  <thead>\n",
       "    <tr>\n",
       "      <th></th>\n",
       "      <th colspan=\"3\" halign=\"left\">Customer_id</th>\n",
       "      <th>Success Rate</th>\n",
       "    </tr>\n",
       "    <tr>\n",
       "      <th>y</th>\n",
       "      <th>no</th>\n",
       "      <th>yes</th>\n",
       "      <th>Total</th>\n",
       "      <th></th>\n",
       "    </tr>\n",
       "    <tr>\n",
       "      <th>housing</th>\n",
       "      <th></th>\n",
       "      <th></th>\n",
       "      <th></th>\n",
       "      <th></th>\n",
       "    </tr>\n",
       "  </thead>\n",
       "  <tbody>\n",
       "    <tr>\n",
       "      <th>yes</th>\n",
       "      <td>17154</td>\n",
       "      <td>2279</td>\n",
       "      <td>19433</td>\n",
       "      <td>11.727474</td>\n",
       "    </tr>\n",
       "    <tr>\n",
       "      <th>Total</th>\n",
       "      <td>32876</td>\n",
       "      <td>4208</td>\n",
       "      <td>37084</td>\n",
       "      <td>11.347212</td>\n",
       "    </tr>\n",
       "    <tr>\n",
       "      <th>no</th>\n",
       "      <td>14931</td>\n",
       "      <td>1838</td>\n",
       "      <td>16769</td>\n",
       "      <td>10.960701</td>\n",
       "    </tr>\n",
       "    <tr>\n",
       "      <th>unknown</th>\n",
       "      <td>791</td>\n",
       "      <td>91</td>\n",
       "      <td>882</td>\n",
       "      <td>10.317460</td>\n",
       "    </tr>\n",
       "  </tbody>\n",
       "</table>\n",
       "</div>"
      ],
      "text/plain": [
       "        Customer_id              Success Rate\n",
       "y                no   yes  Total             \n",
       "housing                                      \n",
       "yes           17154  2279  19433    11.727474\n",
       "Total         32876  4208  37084    11.347212\n",
       "no            14931  1838  16769    10.960701\n",
       "unknown         791    91    882    10.317460"
      ]
     },
     "execution_count": 97,
     "metadata": {},
     "output_type": "execute_result"
    }
   ],
   "source": [
    "default_status=pd.pivot_table(data=cust_data,index=['housing'],columns=['y'],values=['Customer_id'],aggfunc='count',margins=True, margins_name='Total')\n",
    "default_status['Success Rate']=(default_status['Customer_id']['yes']/default_status['Customer_id']['Total'])*100\n",
    "default_status.sort_values(by='Success Rate',ascending=False,inplace=True)\n",
    "default_status"
   ]
  },
  {
   "cell_type": "code",
   "execution_count": 100,
   "id": "80af763e",
   "metadata": {},
   "outputs": [
    {
     "data": {
      "text/plain": [
       "count    37084.000000\n",
       "mean        40.042714\n",
       "std         10.432965\n",
       "min         17.000000\n",
       "25%         32.000000\n",
       "50%         38.000000\n",
       "75%         47.000000\n",
       "max         98.000000\n",
       "Name: age, dtype: float64"
      ]
     },
     "execution_count": 100,
     "metadata": {},
     "output_type": "execute_result"
    }
   ],
   "source": [
    "customer_details['age'].describe()"
   ]
  },
  {
   "cell_type": "code",
   "execution_count": 124,
   "id": "8d5f1734",
   "metadata": {
    "scrolled": true
   },
   "outputs": [
    {
     "data": {
      "text/html": [
       "<div>\n",
       "<style scoped>\n",
       "    .dataframe tbody tr th:only-of-type {\n",
       "        vertical-align: middle;\n",
       "    }\n",
       "\n",
       "    .dataframe tbody tr th {\n",
       "        vertical-align: top;\n",
       "    }\n",
       "\n",
       "    .dataframe thead tr th {\n",
       "        text-align: left;\n",
       "    }\n",
       "\n",
       "    .dataframe thead tr:last-of-type th {\n",
       "        text-align: right;\n",
       "    }\n",
       "</style>\n",
       "<table border=\"1\" class=\"dataframe\">\n",
       "  <thead>\n",
       "    <tr>\n",
       "      <th></th>\n",
       "      <th colspan=\"3\" halign=\"left\">Customer_id</th>\n",
       "      <th>Success Rate</th>\n",
       "    </tr>\n",
       "    <tr>\n",
       "      <th>y</th>\n",
       "      <th>no</th>\n",
       "      <th>yes</th>\n",
       "      <th>Total</th>\n",
       "      <th></th>\n",
       "    </tr>\n",
       "    <tr>\n",
       "      <th>age_category</th>\n",
       "      <th></th>\n",
       "      <th></th>\n",
       "      <th></th>\n",
       "      <th></th>\n",
       "    </tr>\n",
       "  </thead>\n",
       "  <tbody>\n",
       "    <tr>\n",
       "      <th>Teenagers</th>\n",
       "      <td>39</td>\n",
       "      <td>29</td>\n",
       "      <td>68</td>\n",
       "      <td>42.647059</td>\n",
       "    </tr>\n",
       "    <tr>\n",
       "      <th>Retired</th>\n",
       "      <td>3716</td>\n",
       "      <td>792</td>\n",
       "      <td>4508</td>\n",
       "      <td>17.568767</td>\n",
       "    </tr>\n",
       "    <tr>\n",
       "      <th>Twenties</th>\n",
       "      <td>4171</td>\n",
       "      <td>787</td>\n",
       "      <td>4958</td>\n",
       "      <td>15.873336</td>\n",
       "    </tr>\n",
       "    <tr>\n",
       "      <th>Total</th>\n",
       "      <td>32876</td>\n",
       "      <td>4208</td>\n",
       "      <td>37084</td>\n",
       "      <td>11.347212</td>\n",
       "    </tr>\n",
       "    <tr>\n",
       "      <th>Fifties</th>\n",
       "      <td>4853</td>\n",
       "      <td>552</td>\n",
       "      <td>5405</td>\n",
       "      <td>10.212766</td>\n",
       "    </tr>\n",
       "    <tr>\n",
       "      <th>Thirties</th>\n",
       "      <td>12361</td>\n",
       "      <td>1367</td>\n",
       "      <td>13728</td>\n",
       "      <td>9.957751</td>\n",
       "    </tr>\n",
       "    <tr>\n",
       "      <th>Forties</th>\n",
       "      <td>7736</td>\n",
       "      <td>681</td>\n",
       "      <td>8417</td>\n",
       "      <td>8.090769</td>\n",
       "    </tr>\n",
       "  </tbody>\n",
       "</table>\n",
       "</div>"
      ],
      "text/plain": [
       "             Customer_id              Success Rate\n",
       "y                     no   yes  Total             \n",
       "age_category                                      \n",
       "Teenagers             39    29     68    42.647059\n",
       "Retired             3716   792   4508    17.568767\n",
       "Twenties            4171   787   4958    15.873336\n",
       "Total              32876  4208  37084    11.347212\n",
       "Fifties             4853   552   5405    10.212766\n",
       "Thirties           12361  1367  13728     9.957751\n",
       "Forties             7736   681   8417     8.090769"
      ]
     },
     "execution_count": 124,
     "metadata": {},
     "output_type": "execute_result"
    }
   ],
   "source": [
    "age_category_status=pd.pivot_table(data=cust_data,index=['age_category'],columns=['y'],values=['Customer_id'],aggfunc='count',margins=True, margins_name='Total')\n",
    "age_category_status['Success Rate']=(age_category_status['Customer_id']['yes']/age_category_status['Customer_id']['Total'])*100\n",
    "age_category_status.sort_values(by='Success Rate',ascending=False,inplace=True)\n",
    "age_category_status"
   ]
  },
  {
   "cell_type": "code",
   "execution_count": 183,
   "id": "69c7f5db",
   "metadata": {},
   "outputs": [
    {
     "data": {
      "text/plain": [
       "18.707015130674005"
      ]
     },
     "execution_count": 183,
     "metadata": {},
     "output_type": "execute_result"
    }
   ],
   "source": [
    "(cust_data[(cust_data['age_category']=='Twenties') & (cust_data['job']=='admin.')]['y'].value_counts()['yes'])/(cust_data[(cust_data['age_category']=='Twenties') & (cust_data['job']=='admin.')]['y'].value_counts()['yes']+cust_data[(cust_data['age_category']=='Twenties') & (cust_data['job']=='admin.')]['y'].value_counts()['no'])*100"
   ]
  },
  {
   "cell_type": "code",
   "execution_count": 178,
   "id": "ced2f9e3",
   "metadata": {},
   "outputs": [],
   "source": [
    "list_age_category=cust_data['age_category'].unique()"
   ]
  },
  {
   "cell_type": "code",
   "execution_count": 180,
   "id": "bbdd38cf",
   "metadata": {},
   "outputs": [
    {
     "data": {
      "text/plain": [
       "numpy.ndarray"
      ]
     },
     "execution_count": 180,
     "metadata": {},
     "output_type": "execute_result"
    }
   ],
   "source": [
    "type(list_age_category)"
   ]
  },
  {
   "cell_type": "code",
   "execution_count": 184,
   "id": "68171d04",
   "metadata": {},
   "outputs": [
    {
     "data": {
      "text/plain": [
       "['Fifties', 'Forties', 'Twenties', 'Thirties', 'Retired', 'Teenagers']"
      ]
     },
     "execution_count": 184,
     "metadata": {},
     "output_type": "execute_result"
    }
   ],
   "source": [
    "list_age_category"
   ]
  },
  {
   "cell_type": "markdown",
   "id": "07075928",
   "metadata": {},
   "source": [
    "list_age_category=list(list_age_category)"
   ]
  },
  {
   "cell_type": "code",
   "execution_count": 182,
   "id": "a117210f",
   "metadata": {},
   "outputs": [
    {
     "data": {
      "text/plain": [
       "list"
      ]
     },
     "execution_count": 182,
     "metadata": {},
     "output_type": "execute_result"
    }
   ],
   "source": [
    "type(list_age_category)"
   ]
  },
  {
   "cell_type": "code",
   "execution_count": 190,
   "id": "363ecfc5",
   "metadata": {},
   "outputs": [],
   "source": [
    "list_job_category=cust_data['job'].unique()"
   ]
  },
  {
   "cell_type": "code",
   "execution_count": 191,
   "id": "f610e271",
   "metadata": {},
   "outputs": [],
   "source": [
    "list_job_category=list(list_job_category)"
   ]
  },
  {
   "cell_type": "code",
   "execution_count": 192,
   "id": "67dd27c0",
   "metadata": {},
   "outputs": [
    {
     "data": {
      "text/plain": [
       "list"
      ]
     },
     "execution_count": 192,
     "metadata": {},
     "output_type": "execute_result"
    }
   ],
   "source": [
    "type(list_age_category)"
   ]
  },
  {
   "cell_type": "code",
   "execution_count": 197,
   "id": "63092bc7",
   "metadata": {},
   "outputs": [
    {
     "data": {
      "text/plain": [
       "['Fifties', 'Forties', 'Twenties', 'Thirties', 'Retired', 'Teenagers']"
      ]
     },
     "execution_count": 197,
     "metadata": {},
     "output_type": "execute_result"
    }
   ],
   "source": [
    "list_age_category"
   ]
  },
  {
   "cell_type": "code",
   "execution_count": 189,
   "id": "0c7c4993",
   "metadata": {},
   "outputs": [
    {
     "name": "stdout",
     "output_type": "stream",
     "text": [
      "Fifties : 13.727359389895138\n",
      "Forties : 10.918367346938776\n",
      "Twenties : 18.707015130674005\n",
      "Thirties : 11.619095731245265\n",
      "Retired : 15.631262525050099\n"
     ]
    },
    {
     "ename": "KeyError",
     "evalue": "'yes'",
     "output_type": "error",
     "traceback": [
      "\u001b[1;31m---------------------------------------------------------------------------\u001b[0m",
      "\u001b[1;31mKeyError\u001b[0m                                  Traceback (most recent call last)",
      "\u001b[1;32m~\\Anaconda3\\lib\\site-packages\\pandas\\core\\indexes\\base.py\u001b[0m in \u001b[0;36mget_loc\u001b[1;34m(self, key, method, tolerance)\u001b[0m\n\u001b[0;32m   3360\u001b[0m             \u001b[1;32mtry\u001b[0m\u001b[1;33m:\u001b[0m\u001b[1;33m\u001b[0m\u001b[1;33m\u001b[0m\u001b[0m\n\u001b[1;32m-> 3361\u001b[1;33m                 \u001b[1;32mreturn\u001b[0m \u001b[0mself\u001b[0m\u001b[1;33m.\u001b[0m\u001b[0m_engine\u001b[0m\u001b[1;33m.\u001b[0m\u001b[0mget_loc\u001b[0m\u001b[1;33m(\u001b[0m\u001b[0mcasted_key\u001b[0m\u001b[1;33m)\u001b[0m\u001b[1;33m\u001b[0m\u001b[1;33m\u001b[0m\u001b[0m\n\u001b[0m\u001b[0;32m   3362\u001b[0m             \u001b[1;32mexcept\u001b[0m \u001b[0mKeyError\u001b[0m \u001b[1;32mas\u001b[0m \u001b[0merr\u001b[0m\u001b[1;33m:\u001b[0m\u001b[1;33m\u001b[0m\u001b[1;33m\u001b[0m\u001b[0m\n",
      "\u001b[1;32m~\\Anaconda3\\lib\\site-packages\\pandas\\_libs\\index.pyx\u001b[0m in \u001b[0;36mpandas._libs.index.IndexEngine.get_loc\u001b[1;34m()\u001b[0m\n",
      "\u001b[1;32m~\\Anaconda3\\lib\\site-packages\\pandas\\_libs\\index.pyx\u001b[0m in \u001b[0;36mpandas._libs.index.IndexEngine.get_loc\u001b[1;34m()\u001b[0m\n",
      "\u001b[1;32mpandas\\_libs\\hashtable_class_helper.pxi\u001b[0m in \u001b[0;36mpandas._libs.hashtable.PyObjectHashTable.get_item\u001b[1;34m()\u001b[0m\n",
      "\u001b[1;32mpandas\\_libs\\hashtable_class_helper.pxi\u001b[0m in \u001b[0;36mpandas._libs.hashtable.PyObjectHashTable.get_item\u001b[1;34m()\u001b[0m\n",
      "\u001b[1;31mKeyError\u001b[0m: 'yes'",
      "\nThe above exception was the direct cause of the following exception:\n",
      "\u001b[1;31mKeyError\u001b[0m                                  Traceback (most recent call last)",
      "\u001b[1;32m~\\AppData\\Local\\Temp/ipykernel_14556/2584870065.py\u001b[0m in \u001b[0;36m<module>\u001b[1;34m\u001b[0m\n\u001b[0;32m      1\u001b[0m \u001b[1;32mfor\u001b[0m \u001b[0mitem\u001b[0m \u001b[1;32min\u001b[0m \u001b[0mlist_age_category\u001b[0m\u001b[1;33m:\u001b[0m\u001b[1;33m\u001b[0m\u001b[1;33m\u001b[0m\u001b[0m\n\u001b[1;32m----> 2\u001b[1;33m     \u001b[0mprint\u001b[0m\u001b[1;33m(\u001b[0m\u001b[0mitem\u001b[0m\u001b[1;33m,\u001b[0m\u001b[1;34m\":\"\u001b[0m \u001b[1;33m,\u001b[0m\u001b[1;33m(\u001b[0m\u001b[0mcust_data\u001b[0m\u001b[1;33m[\u001b[0m\u001b[1;33m(\u001b[0m\u001b[0mcust_data\u001b[0m\u001b[1;33m[\u001b[0m\u001b[1;34m'age_category'\u001b[0m\u001b[1;33m]\u001b[0m\u001b[1;33m==\u001b[0m\u001b[0mitem\u001b[0m\u001b[1;33m)\u001b[0m \u001b[1;33m&\u001b[0m \u001b[1;33m(\u001b[0m\u001b[0mcust_data\u001b[0m\u001b[1;33m[\u001b[0m\u001b[1;34m'job'\u001b[0m\u001b[1;33m]\u001b[0m\u001b[1;33m==\u001b[0m\u001b[1;34m'admin.'\u001b[0m\u001b[1;33m)\u001b[0m\u001b[1;33m]\u001b[0m\u001b[1;33m[\u001b[0m\u001b[1;34m'y'\u001b[0m\u001b[1;33m]\u001b[0m\u001b[1;33m.\u001b[0m\u001b[0mvalue_counts\u001b[0m\u001b[1;33m(\u001b[0m\u001b[1;33m)\u001b[0m\u001b[1;33m[\u001b[0m\u001b[1;34m'yes'\u001b[0m\u001b[1;33m]\u001b[0m\u001b[1;33m)\u001b[0m\u001b[1;33m/\u001b[0m\u001b[1;33m(\u001b[0m\u001b[0mcust_data\u001b[0m\u001b[1;33m[\u001b[0m\u001b[1;33m(\u001b[0m\u001b[0mcust_data\u001b[0m\u001b[1;33m[\u001b[0m\u001b[1;34m'age_category'\u001b[0m\u001b[1;33m]\u001b[0m\u001b[1;33m==\u001b[0m\u001b[0mitem\u001b[0m\u001b[1;33m)\u001b[0m \u001b[1;33m&\u001b[0m \u001b[1;33m(\u001b[0m\u001b[0mcust_data\u001b[0m\u001b[1;33m[\u001b[0m\u001b[1;34m'job'\u001b[0m\u001b[1;33m]\u001b[0m\u001b[1;33m==\u001b[0m\u001b[1;34m'admin.'\u001b[0m\u001b[1;33m)\u001b[0m\u001b[1;33m]\u001b[0m\u001b[1;33m[\u001b[0m\u001b[1;34m'y'\u001b[0m\u001b[1;33m]\u001b[0m\u001b[1;33m.\u001b[0m\u001b[0mvalue_counts\u001b[0m\u001b[1;33m(\u001b[0m\u001b[1;33m)\u001b[0m\u001b[1;33m[\u001b[0m\u001b[1;34m'yes'\u001b[0m\u001b[1;33m]\u001b[0m\u001b[1;33m+\u001b[0m\u001b[0mcust_data\u001b[0m\u001b[1;33m[\u001b[0m\u001b[1;33m(\u001b[0m\u001b[0mcust_data\u001b[0m\u001b[1;33m[\u001b[0m\u001b[1;34m'age_category'\u001b[0m\u001b[1;33m]\u001b[0m\u001b[1;33m==\u001b[0m\u001b[0mitem\u001b[0m\u001b[1;33m)\u001b[0m \u001b[1;33m&\u001b[0m \u001b[1;33m(\u001b[0m\u001b[0mcust_data\u001b[0m\u001b[1;33m[\u001b[0m\u001b[1;34m'job'\u001b[0m\u001b[1;33m]\u001b[0m\u001b[1;33m==\u001b[0m\u001b[1;34m'admin.'\u001b[0m\u001b[1;33m)\u001b[0m\u001b[1;33m]\u001b[0m\u001b[1;33m[\u001b[0m\u001b[1;34m'y'\u001b[0m\u001b[1;33m]\u001b[0m\u001b[1;33m.\u001b[0m\u001b[0mvalue_counts\u001b[0m\u001b[1;33m(\u001b[0m\u001b[1;33m)\u001b[0m\u001b[1;33m[\u001b[0m\u001b[1;34m'no'\u001b[0m\u001b[1;33m]\u001b[0m\u001b[1;33m)\u001b[0m\u001b[1;33m*\u001b[0m\u001b[1;36m100\u001b[0m\u001b[1;33m)\u001b[0m\u001b[1;33m\u001b[0m\u001b[1;33m\u001b[0m\u001b[0m\n\u001b[0m",
      "\u001b[1;32m~\\Anaconda3\\lib\\site-packages\\pandas\\core\\series.py\u001b[0m in \u001b[0;36m__getitem__\u001b[1;34m(self, key)\u001b[0m\n\u001b[0;32m    940\u001b[0m \u001b[1;33m\u001b[0m\u001b[0m\n\u001b[0;32m    941\u001b[0m         \u001b[1;32melif\u001b[0m \u001b[0mkey_is_scalar\u001b[0m\u001b[1;33m:\u001b[0m\u001b[1;33m\u001b[0m\u001b[1;33m\u001b[0m\u001b[0m\n\u001b[1;32m--> 942\u001b[1;33m             \u001b[1;32mreturn\u001b[0m \u001b[0mself\u001b[0m\u001b[1;33m.\u001b[0m\u001b[0m_get_value\u001b[0m\u001b[1;33m(\u001b[0m\u001b[0mkey\u001b[0m\u001b[1;33m)\u001b[0m\u001b[1;33m\u001b[0m\u001b[1;33m\u001b[0m\u001b[0m\n\u001b[0m\u001b[0;32m    943\u001b[0m \u001b[1;33m\u001b[0m\u001b[0m\n\u001b[0;32m    944\u001b[0m         \u001b[1;32mif\u001b[0m \u001b[0mis_hashable\u001b[0m\u001b[1;33m(\u001b[0m\u001b[0mkey\u001b[0m\u001b[1;33m)\u001b[0m\u001b[1;33m:\u001b[0m\u001b[1;33m\u001b[0m\u001b[1;33m\u001b[0m\u001b[0m\n",
      "\u001b[1;32m~\\Anaconda3\\lib\\site-packages\\pandas\\core\\series.py\u001b[0m in \u001b[0;36m_get_value\u001b[1;34m(self, label, takeable)\u001b[0m\n\u001b[0;32m   1049\u001b[0m \u001b[1;33m\u001b[0m\u001b[0m\n\u001b[0;32m   1050\u001b[0m         \u001b[1;31m# Similar to Index.get_value, but we do not fall back to positional\u001b[0m\u001b[1;33m\u001b[0m\u001b[1;33m\u001b[0m\u001b[0m\n\u001b[1;32m-> 1051\u001b[1;33m         \u001b[0mloc\u001b[0m \u001b[1;33m=\u001b[0m \u001b[0mself\u001b[0m\u001b[1;33m.\u001b[0m\u001b[0mindex\u001b[0m\u001b[1;33m.\u001b[0m\u001b[0mget_loc\u001b[0m\u001b[1;33m(\u001b[0m\u001b[0mlabel\u001b[0m\u001b[1;33m)\u001b[0m\u001b[1;33m\u001b[0m\u001b[1;33m\u001b[0m\u001b[0m\n\u001b[0m\u001b[0;32m   1052\u001b[0m         \u001b[1;32mreturn\u001b[0m \u001b[0mself\u001b[0m\u001b[1;33m.\u001b[0m\u001b[0mindex\u001b[0m\u001b[1;33m.\u001b[0m\u001b[0m_get_values_for_loc\u001b[0m\u001b[1;33m(\u001b[0m\u001b[0mself\u001b[0m\u001b[1;33m,\u001b[0m \u001b[0mloc\u001b[0m\u001b[1;33m,\u001b[0m \u001b[0mlabel\u001b[0m\u001b[1;33m)\u001b[0m\u001b[1;33m\u001b[0m\u001b[1;33m\u001b[0m\u001b[0m\n\u001b[0;32m   1053\u001b[0m \u001b[1;33m\u001b[0m\u001b[0m\n",
      "\u001b[1;32m~\\Anaconda3\\lib\\site-packages\\pandas\\core\\indexes\\base.py\u001b[0m in \u001b[0;36mget_loc\u001b[1;34m(self, key, method, tolerance)\u001b[0m\n\u001b[0;32m   3361\u001b[0m                 \u001b[1;32mreturn\u001b[0m \u001b[0mself\u001b[0m\u001b[1;33m.\u001b[0m\u001b[0m_engine\u001b[0m\u001b[1;33m.\u001b[0m\u001b[0mget_loc\u001b[0m\u001b[1;33m(\u001b[0m\u001b[0mcasted_key\u001b[0m\u001b[1;33m)\u001b[0m\u001b[1;33m\u001b[0m\u001b[1;33m\u001b[0m\u001b[0m\n\u001b[0;32m   3362\u001b[0m             \u001b[1;32mexcept\u001b[0m \u001b[0mKeyError\u001b[0m \u001b[1;32mas\u001b[0m \u001b[0merr\u001b[0m\u001b[1;33m:\u001b[0m\u001b[1;33m\u001b[0m\u001b[1;33m\u001b[0m\u001b[0m\n\u001b[1;32m-> 3363\u001b[1;33m                 \u001b[1;32mraise\u001b[0m \u001b[0mKeyError\u001b[0m\u001b[1;33m(\u001b[0m\u001b[0mkey\u001b[0m\u001b[1;33m)\u001b[0m \u001b[1;32mfrom\u001b[0m \u001b[0merr\u001b[0m\u001b[1;33m\u001b[0m\u001b[1;33m\u001b[0m\u001b[0m\n\u001b[0m\u001b[0;32m   3364\u001b[0m \u001b[1;33m\u001b[0m\u001b[0m\n\u001b[0;32m   3365\u001b[0m         \u001b[1;32mif\u001b[0m \u001b[0mis_scalar\u001b[0m\u001b[1;33m(\u001b[0m\u001b[0mkey\u001b[0m\u001b[1;33m)\u001b[0m \u001b[1;32mand\u001b[0m \u001b[0misna\u001b[0m\u001b[1;33m(\u001b[0m\u001b[0mkey\u001b[0m\u001b[1;33m)\u001b[0m \u001b[1;32mand\u001b[0m \u001b[1;32mnot\u001b[0m \u001b[0mself\u001b[0m\u001b[1;33m.\u001b[0m\u001b[0mhasnans\u001b[0m\u001b[1;33m:\u001b[0m\u001b[1;33m\u001b[0m\u001b[1;33m\u001b[0m\u001b[0m\n",
      "\u001b[1;31mKeyError\u001b[0m: 'yes'"
     ]
    }
   ],
   "source": [
    "for item in list_age_category:\n",
    "    print(item,\":\" ,(cust_data[(cust_data['age_category']==item) & (cust_data['job']=='admin.')]['y'].value_counts()['yes'])/(cust_data[(cust_data['age_category']==item) & (cust_data['job']=='admin.')]['y'].value_counts()['yes']+cust_data[(cust_data['age_category']==item) & (cust_data['job']=='admin.')]['y'].value_counts()['no'])*100)"
   ]
  },
  {
   "cell_type": "code",
   "execution_count": 199,
   "id": "e00f9f5b",
   "metadata": {},
   "outputs": [
    {
     "data": {
      "text/plain": [
       "'Teenagers'"
      ]
     },
     "execution_count": 199,
     "metadata": {},
     "output_type": "execute_result"
    }
   ],
   "source": [
    "list_age_category.pop(5)"
   ]
  },
  {
   "cell_type": "code",
   "execution_count": 200,
   "id": "359afdf6",
   "metadata": {},
   "outputs": [
    {
     "data": {
      "text/plain": [
       "['Fifties', 'Forties', 'Twenties', 'Thirties', 'Retired']"
      ]
     },
     "execution_count": 200,
     "metadata": {},
     "output_type": "execute_result"
    }
   ],
   "source": [
    "list_age_category"
   ]
  },
  {
   "cell_type": "code",
   "execution_count": null,
   "id": "ee2126aa",
   "metadata": {},
   "outputs": [],
   "source": []
  },
  {
   "cell_type": "code",
   "execution_count": 220,
   "id": "92cd4986",
   "metadata": {},
   "outputs": [
    {
     "name": "stdout",
     "output_type": "stream",
     "text": [
      "admin. and the age is Twenties  :  18.707015130674005\n",
      "admin. and the age is Retired  :  15.631262525050099\n",
      "housemaid and the age is Retired  :  25.757575757575758\n",
      "No yes value found\n",
      "retired and the age is Retired  :  42.65927977839335\n",
      "management and the age is Retired  :  15.824915824915825\n",
      "unknown and the age is Twenties  :  40.909090909090914\n",
      "unknown and the age is Retired  :  19.148936170212767\n",
      "unemployed and the age is Fifties  :  17.293233082706767\n",
      "unemployed and the age is Twenties  :  22.400000000000002\n",
      "unemployed and the age is Retired  :  15.11627906976744\n",
      "No yes value found\n",
      "student and the age is Forties  :  33.33333333333333\n",
      "student and the age is Twenties  :  30.879345603271986\n",
      "student and the age is Thirties  :  22.807017543859647\n",
      "student and the age is Retired  :  35.55555555555556\n"
     ]
    }
   ],
   "source": [
    "list_high_success_rates=[]\n",
    "for occupation in list_job_category:\n",
    "    for item in list_age_category:\n",
    "        try:\n",
    "            Success=((cust_data[(cust_data['age_category']==item) & (cust_data['job']==occupation)]['y'].value_counts()['yes'])/(cust_data[(cust_data['age_category']==item) & (cust_data['job']==occupation)]['y'].value_counts()['yes']+cust_data[(cust_data['age_category']==item) & (cust_data['job']==occupation)]['y'].value_counts()['no'])*100 )\n",
    "            if Success>15.0:\n",
    "                print(occupation,\"and the age is\", item ,\" : \", Success)\n",
    "        except KeyError:\n",
    "            print(\"No yes value found\")"
   ]
  },
  {
   "cell_type": "code",
   "execution_count": 221,
   "id": "b34cd0e9",
   "metadata": {},
   "outputs": [],
   "source": [
    "list_education=cust_data['education'].unique()"
   ]
  },
  {
   "cell_type": "code",
   "execution_count": 222,
   "id": "ab90af11",
   "metadata": {},
   "outputs": [],
   "source": [
    "list_education=list(list_education)"
   ]
  },
  {
   "cell_type": "code",
   "execution_count": 223,
   "id": "3a755e53",
   "metadata": {},
   "outputs": [
    {
     "data": {
      "text/plain": [
       "['high.school',\n",
       " 'basic.9y',\n",
       " 'professional.course',\n",
       " 'unknown',\n",
       " 'basic.4y',\n",
       " 'basic.6y',\n",
       " 'university.degree',\n",
       " 'illiterate']"
      ]
     },
     "execution_count": 223,
     "metadata": {},
     "output_type": "execute_result"
    }
   ],
   "source": [
    "list_education"
   ]
  },
  {
   "cell_type": "code",
   "execution_count": 224,
   "id": "91d06447",
   "metadata": {},
   "outputs": [],
   "source": [
    "list_marital=cust_data['marital'].unique()"
   ]
  },
  {
   "cell_type": "code",
   "execution_count": 225,
   "id": "a240493e",
   "metadata": {},
   "outputs": [],
   "source": [
    "list_marital=list(list_marital)"
   ]
  },
  {
   "cell_type": "code",
   "execution_count": 226,
   "id": "e16dcd21",
   "metadata": {},
   "outputs": [
    {
     "data": {
      "text/plain": [
       "['married', 'single', 'divorced', 'unknown']"
      ]
     },
     "execution_count": 226,
     "metadata": {},
     "output_type": "execute_result"
    }
   ],
   "source": [
    "list_marital"
   ]
  },
  {
   "cell_type": "code",
   "execution_count": 227,
   "id": "5c068514",
   "metadata": {},
   "outputs": [
    {
     "data": {
      "text/plain": [
       "'unknown'"
      ]
     },
     "execution_count": 227,
     "metadata": {},
     "output_type": "execute_result"
    }
   ],
   "source": [
    "list_marital.pop(3)"
   ]
  },
  {
   "cell_type": "code",
   "execution_count": 228,
   "id": "24d72fcb",
   "metadata": {},
   "outputs": [
    {
     "data": {
      "text/plain": [
       "['married', 'single', 'divorced']"
      ]
     },
     "execution_count": 228,
     "metadata": {},
     "output_type": "execute_result"
    }
   ],
   "source": [
    "list_marital"
   ]
  },
  {
   "cell_type": "code",
   "execution_count": 233,
   "id": "bffe3a28",
   "metadata": {},
   "outputs": [
    {
     "name": "stdout",
     "output_type": "stream",
     "text": [
      "high.school and the marital status is single  :  14.520156974669995\n",
      "unknown and the marital status is single  :  21.379310344827587\n",
      "basic.4y and the marital status is divorced  :  17.674418604651162\n",
      "university.degree and the marital status is single  :  15.797430083144368\n",
      "illiterate and the marital status is married  :  14.285714285714285\n",
      "\n",
      "\n"
     ]
    }
   ],
   "source": [
    "list_high_success_rates=[]\n",
    "for education in list_education:\n",
    "    for marital in list_marital:\n",
    "        try:\n",
    "            Success=((cust_data[(cust_data['education']==education) & (cust_data['marital']==marital)]['y'].value_counts()['yes'])/(cust_data[(cust_data['education']==education) & (cust_data['marital']==marital)]['y'].value_counts()['yes']+cust_data[(cust_data['education']==education) & (cust_data['marital']==marital)]['y'].value_counts()['no'])*100 )\n",
    "            if Success>13.0:\n",
    "                print(education,\"and the marital status is\", marital ,\" : \", Success)\n",
    "        except KeyError:\n",
    "            print()"
   ]
  },
  {
   "cell_type": "code",
   "execution_count": null,
   "id": "832e883a",
   "metadata": {},
   "outputs": [],
   "source": []
  }
 ],
 "metadata": {
  "kernelspec": {
   "display_name": "Python 3 (ipykernel)",
   "language": "python",
   "name": "python3"
  },
  "language_info": {
   "codemirror_mode": {
    "name": "ipython",
    "version": 3
   },
   "file_extension": ".py",
   "mimetype": "text/x-python",
   "name": "python",
   "nbconvert_exporter": "python",
   "pygments_lexer": "ipython3",
   "version": "3.9.7"
  }
 },
 "nbformat": 4,
 "nbformat_minor": 5
}
